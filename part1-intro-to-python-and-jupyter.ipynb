{
 "cells": [
  {
   "cell_type": "markdown",
   "metadata": {},
   "source": [
    "# Python Jupyter\n",
    "\n",
    "\n",
    "* variables\n",
    "* zip\n",
    "* dict\n",
    "* array\n",
    "* string\n",
    "* array slicing\n",
    "* split\n",
    "* strip\n",
    "* join\n",
    "* for loop\n",
    "* if\n",
    "* panda"
   ]
  },
  {
   "cell_type": "markdown",
   "metadata": {},
   "source": [
    "## Math operations\n",
    "\n",
    "sum +, difference -, multiplication *, division /,modulus %"
   ]
  },
  {
   "cell_type": "code",
   "execution_count": 67,
   "metadata": {
    "ExecuteTime": {
     "end_time": "2018-11-25T16:40:55.788851Z",
     "start_time": "2018-11-25T16:40:55.780184Z"
    }
   },
   "outputs": [
    {
     "data": {
      "text/plain": [
       "4"
      ]
     },
     "execution_count": 67,
     "metadata": {},
     "output_type": "execute_result"
    }
   ],
   "source": [
    "# This is a comment\n",
    "# We can work with numbers\n",
    "2+2"
   ]
  },
  {
   "cell_type": "code",
   "execution_count": 68,
   "metadata": {
    "ExecuteTime": {
     "end_time": "2018-11-25T16:40:55.823050Z",
     "start_time": "2018-11-25T16:40:55.793349Z"
    }
   },
   "outputs": [
    {
     "data": {
      "text/plain": [
       "6"
      ]
     },
     "execution_count": 68,
     "metadata": {},
     "output_type": "execute_result"
    }
   ],
   "source": [
    "2*3 #times"
   ]
  },
  {
   "cell_type": "markdown",
   "metadata": {},
   "source": []
  },
  {
   "cell_type": "code",
   "execution_count": 69,
   "metadata": {
    "ExecuteTime": {
     "end_time": "2018-11-25T16:40:55.859327Z",
     "start_time": "2018-11-25T16:40:55.827295Z"
    }
   },
   "outputs": [
    {
     "data": {
      "text/plain": [
       "11"
      ]
     },
     "execution_count": 69,
     "metadata": {},
     "output_type": "execute_result"
    }
   ],
   "source": [
    "# Variables are placeholders\n",
    "x = 5\n",
    "y = 6\n",
    "x+y"
   ]
  },
  {
   "cell_type": "code",
   "execution_count": 70,
   "metadata": {
    "ExecuteTime": {
     "end_time": "2018-11-25T16:40:55.894499Z",
     "start_time": "2018-11-25T16:40:55.863963Z"
    }
   },
   "outputs": [
    {
     "data": {
      "text/plain": [
       "'This is a string'"
      ]
     },
     "execution_count": 70,
     "metadata": {},
     "output_type": "execute_result"
    }
   ],
   "source": [
    "\"This is a string\""
   ]
  },
  {
   "cell_type": "code",
   "execution_count": 71,
   "metadata": {
    "ExecuteTime": {
     "end_time": "2018-11-25T16:40:55.929326Z",
     "start_time": "2018-11-25T16:40:55.899092Z"
    }
   },
   "outputs": [
    {
     "name": "stdout",
     "output_type": "stream",
     "text": [
      "This is a string\n"
     ]
    }
   ],
   "source": [
    "print(\"This is a string\")"
   ]
  },
  {
   "cell_type": "code",
   "execution_count": 72,
   "metadata": {
    "ExecuteTime": {
     "end_time": "2018-11-25T16:40:55.966507Z",
     "start_time": "2018-11-25T16:40:55.934300Z"
    }
   },
   "outputs": [
    {
     "data": {
      "text/plain": [
       "'only the last evaluated thing is printed'"
      ]
     },
     "execution_count": 72,
     "metadata": {},
     "output_type": "execute_result"
    }
   ],
   "source": [
    "\"This is a string\"\n",
    "\"only the last evaluated thing is printed\""
   ]
  },
  {
   "cell_type": "code",
   "execution_count": 73,
   "metadata": {
    "ExecuteTime": {
     "end_time": "2018-11-25T16:40:56.007320Z",
     "start_time": "2018-11-25T16:40:55.970943Z"
    }
   },
   "outputs": [
    {
     "name": "stdout",
     "output_type": "stream",
     "text": [
      "This is a string\n",
      "only the last evaluated thing is printed\n",
      "This lets me show all\n"
     ]
    }
   ],
   "source": [
    "print(\"This is a string\")\n",
    "print(\"only the last evaluated thing is printed\")\n",
    "print(\"This lets me show all\")"
   ]
  },
  {
   "cell_type": "code",
   "execution_count": 74,
   "metadata": {
    "ExecuteTime": {
     "end_time": "2018-11-25T16:40:56.041975Z",
     "start_time": "2018-11-25T16:40:56.011827Z"
    }
   },
   "outputs": [],
   "source": [
    "import time # now I can use things in the time library"
   ]
  },
  {
   "cell_type": "code",
   "execution_count": 75,
   "metadata": {
    "ExecuteTime": {
     "end_time": "2018-11-25T16:40:58.080430Z",
     "start_time": "2018-11-25T16:40:56.046510Z"
    }
   },
   "outputs": [],
   "source": [
    "time.sleep(2)"
   ]
  },
  {
   "cell_type": "code",
   "execution_count": 76,
   "metadata": {
    "ExecuteTime": {
     "end_time": "2018-11-25T16:41:00.094105Z",
     "start_time": "2018-11-25T16:40:58.085157Z"
    }
   },
   "outputs": [
    {
     "name": "stdout",
     "output_type": "stream",
     "text": [
      "This is a string\n",
      "only the last evaluated thing is printed\n",
      "This lets me show all\n"
     ]
    }
   ],
   "source": [
    "print(\"This is a string\")\n",
    "time.sleep(1)\n",
    "print(\"only the last evaluated thing is printed\")\n",
    "time.sleep(1)\n",
    "print(\"This lets me show all\")"
   ]
  },
  {
   "cell_type": "code",
   "execution_count": 77,
   "metadata": {
    "ExecuteTime": {
     "end_time": "2018-11-25T16:41:00.104473Z",
     "start_time": "2018-11-25T16:41:00.098976Z"
    }
   },
   "outputs": [
    {
     "name": "stdout",
     "output_type": "stream",
     "text": [
      "A String\n"
     ]
    }
   ],
   "source": [
    "variable = \"A String\"\n",
    "print(variable)"
   ]
  },
  {
   "cell_type": "code",
   "execution_count": 78,
   "metadata": {
    "ExecuteTime": {
     "end_time": "2018-11-25T16:41:00.147622Z",
     "start_time": "2018-11-25T16:41:00.109610Z"
    }
   },
   "outputs": [
    {
     "name": "stdout",
     "output_type": "stream",
     "text": [
      "A string and another\n"
     ]
    }
   ],
   "source": [
    "x = \"A string\"\n",
    "y = \" and another\"\n",
    "print(x+y)"
   ]
  },
  {
   "cell_type": "code",
   "execution_count": 79,
   "metadata": {
    "ExecuteTime": {
     "end_time": "2018-11-25T16:41:00.191044Z",
     "start_time": "2018-11-25T16:41:00.152373Z"
    }
   },
   "outputs": [
    {
     "data": {
      "text/plain": [
       "'A'"
      ]
     },
     "execution_count": 79,
     "metadata": {},
     "output_type": "execute_result"
    }
   ],
   "source": [
    "x[0]"
   ]
  },
  {
   "cell_type": "code",
   "execution_count": 80,
   "metadata": {
    "ExecuteTime": {
     "end_time": "2018-11-25T16:41:00.232711Z",
     "start_time": "2018-11-25T16:41:00.195517Z"
    }
   },
   "outputs": [
    {
     "data": {
      "text/plain": [
       "' '"
      ]
     },
     "execution_count": 80,
     "metadata": {},
     "output_type": "execute_result"
    }
   ],
   "source": [
    "x[1]"
   ]
  },
  {
   "cell_type": "code",
   "execution_count": 81,
   "metadata": {
    "ExecuteTime": {
     "end_time": "2018-11-25T16:41:00.274870Z",
     "start_time": "2018-11-25T16:41:00.237022Z"
    }
   },
   "outputs": [
    {
     "data": {
      "text/plain": [
       "'A st'"
      ]
     },
     "execution_count": 81,
     "metadata": {},
     "output_type": "execute_result"
    }
   ],
   "source": [
    "x[0:4]"
   ]
  },
  {
   "cell_type": "code",
   "execution_count": 82,
   "metadata": {
    "ExecuteTime": {
     "end_time": "2018-11-25T16:41:00.316379Z",
     "start_time": "2018-11-25T16:41:00.279371Z"
    }
   },
   "outputs": [
    {
     "data": {
      "text/plain": [
       "'string'"
      ]
     },
     "execution_count": 82,
     "metadata": {},
     "output_type": "execute_result"
    }
   ],
   "source": [
    "x[2:8]"
   ]
  },
  {
   "cell_type": "code",
   "execution_count": 83,
   "metadata": {
    "ExecuteTime": {
     "end_time": "2018-11-25T16:41:00.358937Z",
     "start_time": "2018-11-25T16:41:00.321092Z"
    }
   },
   "outputs": [
    {
     "data": {
      "text/plain": [
       "[]"
      ]
     },
     "execution_count": 83,
     "metadata": {},
     "output_type": "execute_result"
    }
   ],
   "source": [
    "mt_list = []\n",
    "mt_list"
   ]
  },
  {
   "cell_type": "code",
   "execution_count": 84,
   "metadata": {
    "ExecuteTime": {
     "end_time": "2018-11-25T16:41:00.400981Z",
     "start_time": "2018-11-25T16:41:00.363167Z"
    }
   },
   "outputs": [
    {
     "data": {
      "text/plain": [
       "[2, 'foo', True]"
      ]
     },
     "execution_count": 84,
     "metadata": {},
     "output_type": "execute_result"
    }
   ],
   "source": [
    "# lists can hold stuff\n",
    "my_list = [2, 'foo', True]\n",
    "my_list"
   ]
  },
  {
   "cell_type": "code",
   "execution_count": 85,
   "metadata": {
    "ExecuteTime": {
     "end_time": "2018-11-25T16:41:00.442199Z",
     "start_time": "2018-11-25T16:41:00.405448Z"
    }
   },
   "outputs": [
    {
     "data": {
      "text/plain": [
       "2"
      ]
     },
     "execution_count": 85,
     "metadata": {},
     "output_type": "execute_result"
    }
   ],
   "source": [
    "my_list[0]"
   ]
  },
  {
   "cell_type": "code",
   "execution_count": 86,
   "metadata": {
    "ExecuteTime": {
     "end_time": "2018-11-25T16:41:00.484236Z",
     "start_time": "2018-11-25T16:41:00.446661Z"
    }
   },
   "outputs": [
    {
     "data": {
      "text/plain": [
       "'foo'"
      ]
     },
     "execution_count": 86,
     "metadata": {},
     "output_type": "execute_result"
    }
   ],
   "source": [
    "my_list[1]"
   ]
  },
  {
   "cell_type": "code",
   "execution_count": 87,
   "metadata": {
    "ExecuteTime": {
     "end_time": "2018-11-25T16:41:00.526790Z",
     "start_time": "2018-11-25T16:41:00.488955Z"
    }
   },
   "outputs": [
    {
     "data": {
      "text/plain": [
       "range(0, 10)"
      ]
     },
     "execution_count": 87,
     "metadata": {},
     "output_type": "execute_result"
    }
   ],
   "source": [
    "# We often want lists of counting numbers\n",
    "range(0,10)"
   ]
  },
  {
   "cell_type": "code",
   "execution_count": 88,
   "metadata": {
    "ExecuteTime": {
     "end_time": "2018-11-25T16:41:00.580245Z",
     "start_time": "2018-11-25T16:41:00.531033Z"
    }
   },
   "outputs": [
    {
     "data": {
      "text/plain": [
       "[0, 1, 2, 3, 4, 5, 6, 7, 8, 9]"
      ]
     },
     "execution_count": 88,
     "metadata": {},
     "output_type": "execute_result"
    }
   ],
   "source": [
    "list(range(0,10))"
   ]
  },
  {
   "cell_type": "code",
   "execution_count": 89,
   "metadata": {
    "ExecuteTime": {
     "end_time": "2018-11-25T16:41:05.620295Z",
     "start_time": "2018-11-25T16:41:00.585020Z"
    }
   },
   "outputs": [
    {
     "name": "stdout",
     "output_type": "stream",
     "text": [
      "number is  0\n",
      "number is  1\n",
      "number is  2\n",
      "number is  3\n",
      "number is  4\n",
      "number is  5\n",
      "number is  6\n",
      "number is  7\n",
      "number is  8\n",
      "number is  9\n"
     ]
    }
   ],
   "source": [
    "for number in range(0,10):\n",
    "    time.sleep(0.5)\n",
    "    print(\"number is \", number)"
   ]
  },
  {
   "cell_type": "code",
   "execution_count": 90,
   "metadata": {
    "ExecuteTime": {
     "end_time": "2018-11-25T16:41:05.632775Z",
     "start_time": "2018-11-25T16:41:05.625433Z"
    }
   },
   "outputs": [
    {
     "data": {
      "text/plain": [
       "False"
      ]
     },
     "execution_count": 90,
     "metadata": {},
     "output_type": "execute_result"
    }
   ],
   "source": [
    "x = 1\n",
    "x == 2"
   ]
  },
  {
   "cell_type": "code",
   "execution_count": 91,
   "metadata": {
    "ExecuteTime": {
     "end_time": "2018-11-25T16:41:05.669229Z",
     "start_time": "2018-11-25T16:41:05.637172Z"
    }
   },
   "outputs": [
    {
     "data": {
      "text/plain": [
       "True"
      ]
     },
     "execution_count": 91,
     "metadata": {},
     "output_type": "execute_result"
    }
   ],
   "source": [
    "x == 1"
   ]
  },
  {
   "cell_type": "code",
   "execution_count": 92,
   "metadata": {
    "ExecuteTime": {
     "end_time": "2018-11-25T16:41:05.704302Z",
     "start_time": "2018-11-25T16:41:05.673832Z"
    }
   },
   "outputs": [
    {
     "name": "stdout",
     "output_type": "stream",
     "text": [
      "0\n",
      "1\n",
      "0\n",
      "1\n",
      "0\n",
      "1\n",
      "0\n",
      "1\n",
      "0\n",
      "1\n"
     ]
    }
   ],
   "source": [
    "for number in range(0,10):\n",
    "    print(number % 2)"
   ]
  },
  {
   "cell_type": "code",
   "execution_count": 93,
   "metadata": {
    "ExecuteTime": {
     "end_time": "2018-11-25T16:41:05.745858Z",
     "start_time": "2018-11-25T16:41:05.709421Z"
    }
   },
   "outputs": [
    {
     "name": "stdout",
     "output_type": "stream",
     "text": [
      "0  is even\n",
      "1  is odd\n",
      "2  is even\n",
      "3  is odd\n",
      "4  is even\n",
      "5  is odd\n",
      "6  is even\n",
      "7  is odd\n",
      "8  is even\n",
      "9  is odd\n"
     ]
    }
   ],
   "source": [
    "for number in range(0,10):\n",
    "    if number % 2 == 0:\n",
    "        print(number, \" is even\")\n",
    "    else:\n",
    "        print(number, \" is odd\")"
   ]
  },
  {
   "cell_type": "code",
   "execution_count": 94,
   "metadata": {
    "ExecuteTime": {
     "end_time": "2018-11-25T16:41:05.789853Z",
     "start_time": "2018-11-25T16:41:05.751254Z"
    }
   },
   "outputs": [
    {
     "name": "stdout",
     "output_type": "stream",
     "text": [
      "0  is even\n",
      "1  is odd\n",
      "2  is even\n",
      "3 is odd and divisible by three\n",
      "4  is even\n",
      "5  is odd\n",
      "6  is even\n",
      "7  is odd\n",
      "8  is even\n",
      "9 is odd and divisible by three\n"
     ]
    }
   ],
   "source": [
    "for number in range(0,10):\n",
    "    if number % 2 == 0:\n",
    "        print(number, \" is even\")\n",
    "    elif number % 3 == 0:\n",
    "        print(number, \"is odd and divisible by three\")\n",
    "    else:\n",
    "        print(number, \" is odd\")"
   ]
  },
  {
   "cell_type": "code",
   "execution_count": null,
   "metadata": {},
   "outputs": [],
   "source": [
    "number_seg = list()"
   ]
  }
 ],
 "metadata": {
  "hide_input": false,
  "kernelspec": {
   "display_name": "Python 3",
   "language": "python",
   "name": "python3"
  },
  "language_info": {
   "codemirror_mode": {
    "name": "ipython",
    "version": 3
   },
   "file_extension": ".py",
   "mimetype": "text/x-python",
   "name": "python",
   "nbconvert_exporter": "python",
   "pygments_lexer": "ipython3",
   "version": "3.6.5"
  }
 },
 "nbformat": 4,
 "nbformat_minor": 2
}
