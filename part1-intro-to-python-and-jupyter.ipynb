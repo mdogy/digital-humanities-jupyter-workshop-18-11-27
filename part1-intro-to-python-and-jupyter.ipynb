{
 "cells": [
  {
   "cell_type": "markdown",
   "metadata": {},
   "source": [
    "# Intro to Python and Jupyter\n",
    "\n",
    "There are code cells and markdown cells. This is a markdown cell.\n",
    "\n",
    "## Playing with markdown cells\n",
    "\n",
    "This is a markdown cell. We can make lists here like this\n",
    "\n",
    "* dog\n",
    "* frog\n",
    "* cat\n",
    "* banana\n",
    "\n",
    "Or like this\n",
    "\n",
    "1. step one\n",
    "1. next step\n",
    "1. can't count please auto number\n",
    "\n",
    "I can make a word *italic* or **bold**.\n",
    "\n",
    "I can include equations like $E=mc^2$"
   ]
  },
  {
   "cell_type": "markdown",
   "metadata": {},
   "source": [
    "## More fun with markdown\n",
    "\n",
    "If you follow this [link](https://placekitten.com/g/200/150) you will find a nice kitten. Sometimes you want to see the kitten right here:\n",
    "\n",
    "![link](https://placekitten.com/g/200/150 \"Cute Kitten\")\n",
    "\n",
    "One problem is when it is a very big kitten the markdown has no sizing:\n",
    "\n",
    "![link](https://placekitten.com/g/400/200 \"Cute Kitten\")\n",
    "\n",
    "In such cases you can actually just include html and it usually works:\n",
    "\n",
    "<img src=\"https://placekitten.com/g/400/200\" width=200/>\n",
    "\n",
    "This means you can embed cute and educational kitten videos:\n",
    "\n",
    "<a href=\"http://www.youtube.com/watch?feature=player_embedded&v=oHg5SJYRHA0\n",
    "\" target=\"_blank\"><img src=\"http://img.youtube.com/vi/8HVWitAW-Qg/0.jpg\" \n",
    "alt=\"Cute Kitten Video\" width=\"240\" height=\"180\" border=\"10\" /></a>\n",
    "\n",
    "For more formatting see: \n",
    "\n",
    "Github's [markdown cheatsheet](https://github.com/adam-p/markdown-here/wiki/Markdown-Cheatsheet)\n"
   ]
  },
  {
   "cell_type": "markdown",
   "metadata": {},
   "source": [
    "## Math operations\n",
    "\n",
    "sum +, difference -, multiplication *, division /,modulus %"
   ]
  },
  {
   "cell_type": "code",
   "execution_count": 47,
   "metadata": {
    "ExecuteTime": {
     "end_time": "2018-11-25T16:40:55.788851Z",
     "start_time": "2018-11-25T16:40:55.780184Z"
    }
   },
   "outputs": [
    {
     "data": {
      "text/plain": [
       "4"
      ]
     },
     "execution_count": 47,
     "metadata": {},
     "output_type": "execute_result"
    }
   ],
   "source": [
    "# This is a comment\n",
    "# We can work with numbers\n",
    "2+2"
   ]
  },
  {
   "cell_type": "code",
   "execution_count": 48,
   "metadata": {
    "ExecuteTime": {
     "end_time": "2018-11-25T16:40:55.823050Z",
     "start_time": "2018-11-25T16:40:55.793349Z"
    }
   },
   "outputs": [
    {
     "data": {
      "text/plain": [
       "6"
      ]
     },
     "execution_count": 48,
     "metadata": {},
     "output_type": "execute_result"
    }
   ],
   "source": [
    "2*3 #times"
   ]
  },
  {
   "cell_type": "markdown",
   "metadata": {},
   "source": [
    "## Variables"
   ]
  },
  {
   "cell_type": "code",
   "execution_count": 49,
   "metadata": {
    "ExecuteTime": {
     "end_time": "2018-11-25T16:40:55.859327Z",
     "start_time": "2018-11-25T16:40:55.827295Z"
    }
   },
   "outputs": [
    {
     "data": {
      "text/plain": [
       "11"
      ]
     },
     "execution_count": 49,
     "metadata": {},
     "output_type": "execute_result"
    }
   ],
   "source": [
    "# Variables are placeholders\n",
    "x = 5\n",
    "y = 6\n",
    "x+y"
   ]
  },
  {
   "cell_type": "code",
   "execution_count": 50,
   "metadata": {
    "ExecuteTime": {
     "end_time": "2018-11-25T16:40:55.894499Z",
     "start_time": "2018-11-25T16:40:55.863963Z"
    }
   },
   "outputs": [
    {
     "data": {
      "text/plain": [
       "'This is a string'"
      ]
     },
     "execution_count": 50,
     "metadata": {},
     "output_type": "execute_result"
    }
   ],
   "source": [
    "\"This is a string\""
   ]
  },
  {
   "cell_type": "code",
   "execution_count": 51,
   "metadata": {
    "ExecuteTime": {
     "end_time": "2018-11-25T16:40:55.929326Z",
     "start_time": "2018-11-25T16:40:55.899092Z"
    }
   },
   "outputs": [
    {
     "name": "stdout",
     "output_type": "stream",
     "text": [
      "This is a string\n"
     ]
    }
   ],
   "source": [
    "print(\"This is a string\")"
   ]
  },
  {
   "cell_type": "code",
   "execution_count": 52,
   "metadata": {
    "ExecuteTime": {
     "end_time": "2018-11-25T16:40:55.966507Z",
     "start_time": "2018-11-25T16:40:55.934300Z"
    }
   },
   "outputs": [
    {
     "data": {
      "text/plain": [
       "'only the last evaluated thing is printed'"
      ]
     },
     "execution_count": 52,
     "metadata": {},
     "output_type": "execute_result"
    }
   ],
   "source": [
    "\"This is a string\"\n",
    "\"only the last evaluated thing is printed\""
   ]
  },
  {
   "cell_type": "code",
   "execution_count": 53,
   "metadata": {
    "ExecuteTime": {
     "end_time": "2018-11-25T16:40:56.007320Z",
     "start_time": "2018-11-25T16:40:55.970943Z"
    }
   },
   "outputs": [
    {
     "name": "stdout",
     "output_type": "stream",
     "text": [
      "This is a string\n",
      "only the last evaluated thing is printed\n",
      "This lets me show all\n"
     ]
    }
   ],
   "source": [
    "print(\"This is a string\")\n",
    "print(\"only the last evaluated thing is printed\")\n",
    "print(\"This lets me show all\")"
   ]
  },
  {
   "cell_type": "markdown",
   "metadata": {
    "ExecuteTime": {
     "end_time": "2018-11-25T16:40:56.041975Z",
     "start_time": "2018-11-25T16:40:56.011827Z"
    }
   },
   "source": [
    "## More functionality through libraries"
   ]
  },
  {
   "cell_type": "code",
   "execution_count": 54,
   "metadata": {},
   "outputs": [],
   "source": [
    "import time # now I can use things in the time library"
   ]
  },
  {
   "cell_type": "code",
   "execution_count": 55,
   "metadata": {
    "ExecuteTime": {
     "end_time": "2018-11-25T16:40:58.080430Z",
     "start_time": "2018-11-25T16:40:56.046510Z"
    }
   },
   "outputs": [],
   "source": [
    "time.sleep(2)"
   ]
  },
  {
   "cell_type": "code",
   "execution_count": 56,
   "metadata": {
    "ExecuteTime": {
     "end_time": "2018-11-25T16:41:00.094105Z",
     "start_time": "2018-11-25T16:40:58.085157Z"
    }
   },
   "outputs": [
    {
     "name": "stdout",
     "output_type": "stream",
     "text": [
      "This is a string\n",
      "only the last evaluated thing is printed\n",
      "This lets me show all\n"
     ]
    }
   ],
   "source": [
    "print(\"This is a string\")\n",
    "time.sleep(1)\n",
    "print(\"only the last evaluated thing is printed\")\n",
    "time.sleep(1)\n",
    "print(\"This lets me show all\")"
   ]
  },
  {
   "cell_type": "code",
   "execution_count": 57,
   "metadata": {
    "ExecuteTime": {
     "end_time": "2018-11-25T16:41:00.104473Z",
     "start_time": "2018-11-25T16:41:00.098976Z"
    }
   },
   "outputs": [
    {
     "name": "stdout",
     "output_type": "stream",
     "text": [
      "A String\n"
     ]
    }
   ],
   "source": [
    "variable = \"A String\"\n",
    "print(variable)"
   ]
  },
  {
   "cell_type": "code",
   "execution_count": 58,
   "metadata": {
    "ExecuteTime": {
     "end_time": "2018-11-25T16:41:00.147622Z",
     "start_time": "2018-11-25T16:41:00.109610Z"
    }
   },
   "outputs": [
    {
     "name": "stdout",
     "output_type": "stream",
     "text": [
      "A string and another\n"
     ]
    }
   ],
   "source": [
    "x = \"A string\"\n",
    "y = \" and another\"\n",
    "print(x+y)"
   ]
  },
  {
   "cell_type": "markdown",
   "metadata": {},
   "source": [
    "## Strings and Arrays"
   ]
  },
  {
   "cell_type": "code",
   "execution_count": 59,
   "metadata": {
    "ExecuteTime": {
     "end_time": "2018-11-25T16:41:00.191044Z",
     "start_time": "2018-11-25T16:41:00.152373Z"
    }
   },
   "outputs": [
    {
     "data": {
      "text/plain": [
       "'A'"
      ]
     },
     "execution_count": 59,
     "metadata": {},
     "output_type": "execute_result"
    }
   ],
   "source": [
    "x[0]"
   ]
  },
  {
   "cell_type": "code",
   "execution_count": 60,
   "metadata": {
    "ExecuteTime": {
     "end_time": "2018-11-25T16:41:00.232711Z",
     "start_time": "2018-11-25T16:41:00.195517Z"
    }
   },
   "outputs": [
    {
     "data": {
      "text/plain": [
       "' '"
      ]
     },
     "execution_count": 60,
     "metadata": {},
     "output_type": "execute_result"
    }
   ],
   "source": [
    "x[1]"
   ]
  },
  {
   "cell_type": "code",
   "execution_count": 61,
   "metadata": {
    "ExecuteTime": {
     "end_time": "2018-11-25T16:41:00.274870Z",
     "start_time": "2018-11-25T16:41:00.237022Z"
    }
   },
   "outputs": [
    {
     "data": {
      "text/plain": [
       "'A st'"
      ]
     },
     "execution_count": 61,
     "metadata": {},
     "output_type": "execute_result"
    }
   ],
   "source": [
    "x[0:4] # called a slice"
   ]
  },
  {
   "cell_type": "code",
   "execution_count": 62,
   "metadata": {
    "ExecuteTime": {
     "end_time": "2018-11-25T16:41:00.316379Z",
     "start_time": "2018-11-25T16:41:00.279371Z"
    }
   },
   "outputs": [
    {
     "data": {
      "text/plain": [
       "'string'"
      ]
     },
     "execution_count": 62,
     "metadata": {},
     "output_type": "execute_result"
    }
   ],
   "source": [
    "x[2:8]"
   ]
  },
  {
   "cell_type": "code",
   "execution_count": 63,
   "metadata": {
    "ExecuteTime": {
     "end_time": "2018-11-25T16:41:00.358937Z",
     "start_time": "2018-11-25T16:41:00.321092Z"
    }
   },
   "outputs": [
    {
     "data": {
      "text/plain": [
       "[]"
      ]
     },
     "execution_count": 63,
     "metadata": {},
     "output_type": "execute_result"
    }
   ],
   "source": [
    "mt_list = []\n",
    "mt_list"
   ]
  },
  {
   "cell_type": "code",
   "execution_count": 64,
   "metadata": {
    "ExecuteTime": {
     "end_time": "2018-11-25T16:41:00.400981Z",
     "start_time": "2018-11-25T16:41:00.363167Z"
    }
   },
   "outputs": [
    {
     "data": {
      "text/plain": [
       "[2, 'foo', True]"
      ]
     },
     "execution_count": 64,
     "metadata": {},
     "output_type": "execute_result"
    }
   ],
   "source": [
    "# lists can hold stuff\n",
    "my_list = [2, 'foo', True]\n",
    "my_list"
   ]
  },
  {
   "cell_type": "code",
   "execution_count": 65,
   "metadata": {
    "ExecuteTime": {
     "end_time": "2018-11-25T16:41:00.442199Z",
     "start_time": "2018-11-25T16:41:00.405448Z"
    }
   },
   "outputs": [
    {
     "data": {
      "text/plain": [
       "2"
      ]
     },
     "execution_count": 65,
     "metadata": {},
     "output_type": "execute_result"
    }
   ],
   "source": [
    "my_list[0]"
   ]
  },
  {
   "cell_type": "code",
   "execution_count": 66,
   "metadata": {
    "ExecuteTime": {
     "end_time": "2018-11-25T16:41:00.484236Z",
     "start_time": "2018-11-25T16:41:00.446661Z"
    }
   },
   "outputs": [
    {
     "data": {
      "text/plain": [
       "'foo'"
      ]
     },
     "execution_count": 66,
     "metadata": {},
     "output_type": "execute_result"
    }
   ],
   "source": [
    "my_list[1]"
   ]
  },
  {
   "cell_type": "markdown",
   "metadata": {},
   "source": [
    "## Range and For Loops"
   ]
  },
  {
   "cell_type": "code",
   "execution_count": 67,
   "metadata": {
    "ExecuteTime": {
     "end_time": "2018-11-25T16:41:00.526790Z",
     "start_time": "2018-11-25T16:41:00.488955Z"
    }
   },
   "outputs": [
    {
     "data": {
      "text/plain": [
       "range(0, 10)"
      ]
     },
     "execution_count": 67,
     "metadata": {},
     "output_type": "execute_result"
    }
   ],
   "source": [
    "# We often want lists of counting numbers\n",
    "range(0,10)"
   ]
  },
  {
   "cell_type": "code",
   "execution_count": 68,
   "metadata": {
    "ExecuteTime": {
     "end_time": "2018-11-25T16:41:00.580245Z",
     "start_time": "2018-11-25T16:41:00.531033Z"
    }
   },
   "outputs": [
    {
     "data": {
      "text/plain": [
       "[0, 1, 2, 3, 4, 5, 6, 7, 8, 9]"
      ]
     },
     "execution_count": 68,
     "metadata": {},
     "output_type": "execute_result"
    }
   ],
   "source": [
    "list(range(0,10))"
   ]
  },
  {
   "cell_type": "code",
   "execution_count": 69,
   "metadata": {
    "ExecuteTime": {
     "end_time": "2018-11-25T16:41:05.620295Z",
     "start_time": "2018-11-25T16:41:00.585020Z"
    }
   },
   "outputs": [
    {
     "name": "stdout",
     "output_type": "stream",
     "text": [
      "number is  0\n",
      "number is  1\n",
      "number is  2\n",
      "number is  3\n",
      "number is  4\n",
      "number is  5\n",
      "number is  6\n",
      "number is  7\n",
      "number is  8\n",
      "number is  9\n"
     ]
    }
   ],
   "source": [
    "for number in range(0,10):\n",
    "    time.sleep(0.5)\n",
    "    print(\"number is \", number)"
   ]
  },
  {
   "cell_type": "markdown",
   "metadata": {},
   "source": [
    "## Assignment, Comparison, Booleans, and If statements"
   ]
  },
  {
   "cell_type": "code",
   "execution_count": 70,
   "metadata": {
    "ExecuteTime": {
     "end_time": "2018-11-25T16:41:05.632775Z",
     "start_time": "2018-11-25T16:41:05.625433Z"
    }
   },
   "outputs": [
    {
     "data": {
      "text/plain": [
       "False"
      ]
     },
     "execution_count": 70,
     "metadata": {},
     "output_type": "execute_result"
    }
   ],
   "source": [
    "x = 1\n",
    "x == 2"
   ]
  },
  {
   "cell_type": "code",
   "execution_count": 71,
   "metadata": {
    "ExecuteTime": {
     "end_time": "2018-11-25T16:41:05.669229Z",
     "start_time": "2018-11-25T16:41:05.637172Z"
    }
   },
   "outputs": [
    {
     "data": {
      "text/plain": [
       "True"
      ]
     },
     "execution_count": 71,
     "metadata": {},
     "output_type": "execute_result"
    }
   ],
   "source": [
    "x == 1"
   ]
  },
  {
   "cell_type": "code",
   "execution_count": 72,
   "metadata": {
    "ExecuteTime": {
     "end_time": "2018-11-25T16:41:05.704302Z",
     "start_time": "2018-11-25T16:41:05.673832Z"
    }
   },
   "outputs": [
    {
     "name": "stdout",
     "output_type": "stream",
     "text": [
      "0\n",
      "1\n",
      "0\n",
      "1\n",
      "0\n",
      "1\n",
      "0\n",
      "1\n",
      "0\n",
      "1\n"
     ]
    }
   ],
   "source": [
    "for number in range(0,10):\n",
    "    print(number % 2)"
   ]
  },
  {
   "cell_type": "code",
   "execution_count": 73,
   "metadata": {
    "ExecuteTime": {
     "end_time": "2018-11-25T16:41:05.745858Z",
     "start_time": "2018-11-25T16:41:05.709421Z"
    }
   },
   "outputs": [
    {
     "name": "stdout",
     "output_type": "stream",
     "text": [
      "0  is even\n",
      "1  is odd\n",
      "2  is even\n",
      "3  is odd\n",
      "4  is even\n",
      "5  is odd\n",
      "6  is even\n",
      "7  is odd\n",
      "8  is even\n",
      "9  is odd\n"
     ]
    }
   ],
   "source": [
    "for number in range(0,10):\n",
    "    if number % 2 == 0:\n",
    "        print(number, \" is even\")\n",
    "    else:\n",
    "        print(number, \" is odd\")"
   ]
  },
  {
   "cell_type": "code",
   "execution_count": 74,
   "metadata": {
    "ExecuteTime": {
     "end_time": "2018-11-25T16:41:05.789853Z",
     "start_time": "2018-11-25T16:41:05.751254Z"
    }
   },
   "outputs": [
    {
     "name": "stdout",
     "output_type": "stream",
     "text": [
      "0  is even\n",
      "1  is odd\n",
      "2  is even\n",
      "3 is odd and divisible by three\n",
      "4  is even\n",
      "5  is odd\n",
      "6  is even\n",
      "7  is odd\n",
      "8  is even\n",
      "9 is odd and divisible by three\n"
     ]
    }
   ],
   "source": [
    "for number in range(0,10):\n",
    "    if number % 2 == 0:\n",
    "        print(number, \" is even\")\n",
    "    elif number % 3 == 0:\n",
    "        print(number, \"is odd and divisible by three\")\n",
    "    else:\n",
    "        print(number, \" is odd\")"
   ]
  },
  {
   "cell_type": "markdown",
   "metadata": {},
   "source": [
    "## List Comprehensions (combine for and if)\n",
    "\n",
    "Suppose we we want a list \n",
    "\n",
    "squares_of_odds\n",
    "\n",
    "to be the squares of the odd numbers less than 20. First lets compute the squares less than 20."
   ]
  },
  {
   "cell_type": "code",
   "execution_count": 75,
   "metadata": {},
   "outputs": [
    {
     "name": "stdout",
     "output_type": "stream",
     "text": [
      "[1, 4, 9, 16, 25, 36, 49, 64, 81, 100, 121, 144, 169, 196, 225, 256, 289, 324, 361]\n"
     ]
    }
   ],
   "source": [
    "squares = []\n",
    "\n",
    "for num in range(1,20):\n",
    "    squares.append(num*num)\n",
    "\n",
    "print(squares)"
   ]
  },
  {
   "cell_type": "code",
   "execution_count": 76,
   "metadata": {},
   "outputs": [
    {
     "name": "stdout",
     "output_type": "stream",
     "text": [
      "[1, 9, 25, 49, 81, 121, 169, 225, 289, 361]\n"
     ]
    }
   ],
   "source": [
    "squares_of_odds = []\n",
    "\n",
    "for num in range(1,20):\n",
    "    if num % 2 == 1:\n",
    "        squares_of_odds.append(num*num)\n",
    "\n",
    "print(squares_of_odds)"
   ]
  },
  {
   "cell_type": "markdown",
   "metadata": {},
   "source": [
    "We can do this in ONE SHOT with a list comprehensions."
   ]
  },
  {
   "cell_type": "code",
   "execution_count": 77,
   "metadata": {},
   "outputs": [
    {
     "name": "stdout",
     "output_type": "stream",
     "text": [
      "[1, 9, 25, 49, 81, 121, 169, 225, 289, 361]\n"
     ]
    }
   ],
   "source": [
    "squares_of_odds2 = [num*num for num in range(1,20) if num % 2 == 1]\n",
    "print(squares_of_odds2)"
   ]
  },
  {
   "cell_type": "markdown",
   "metadata": {},
   "source": [
    "## zip \n",
    "\n",
    "Suppose we want a lists of lists to have each odd number paired with the square."
   ]
  },
  {
   "cell_type": "code",
   "execution_count": 78,
   "metadata": {},
   "outputs": [
    {
     "name": "stdout",
     "output_type": "stream",
     "text": [
      "[1, 9, 25, 49, 81, 121, 169, 225, 289, 361]\n"
     ]
    }
   ],
   "source": [
    "odd_nums = [num for num in range(1,20) if num % 2 == 1]\n",
    "squares_of_odds3 = [num*num for num in odd_nums]\n",
    "\n",
    "print(squares_of_odds3)"
   ]
  },
  {
   "cell_type": "code",
   "execution_count": 79,
   "metadata": {},
   "outputs": [
    {
     "name": "stdout",
     "output_type": "stream",
     "text": [
      "[(1, 1), (3, 9), (5, 25), (7, 49), (9, 81), (11, 121), (13, 169), (15, 225), (17, 289), (19, 361)]\n"
     ]
    }
   ],
   "source": [
    "print(list(zip(odd_nums,squares_of_odds3)))"
   ]
  },
  {
   "cell_type": "markdown",
   "metadata": {},
   "source": [
    "## Fun with Join\n",
    "\n",
    "We can use the \"join\" operator to put lists together with a separator."
   ]
  },
  {
   "cell_type": "code",
   "execution_count": 80,
   "metadata": {},
   "outputs": [
    {
     "name": "stdout",
     "output_type": "stream",
     "text": [
      "(1, 1)\n",
      "(3, 9)\n",
      "(5, 25)\n",
      "(7, 49)\n",
      "(9, 81)\n",
      "(11, 121)\n",
      "(13, 169)\n",
      "(15, 225)\n",
      "(17, 289)\n",
      "(19, 361)\n"
     ]
    }
   ],
   "source": [
    "number_string = '\\n'.join(str(pair) for pair in zip(odd_nums,squares_of_odds3))\n",
    "print(number_string)"
   ]
  },
  {
   "cell_type": "code",
   "execution_count": 81,
   "metadata": {},
   "outputs": [
    {
     "name": "stdout",
     "output_type": "stream",
     "text": [
      "1: 1\n",
      "3: 9\n",
      "5: 25\n",
      "7: 49\n",
      "9: 81\n",
      "11: 121\n",
      "13: 169\n",
      "15: 225\n",
      "17: 289\n",
      "19: 361\n"
     ]
    }
   ],
   "source": [
    "number_string2 = '\\n'.join(': '.join(str(num) for num in pair) \n",
    "                                              for pair in zip(odd_nums,squares_of_odds3))\n",
    "print(number_string2)"
   ]
  },
  {
   "cell_type": "markdown",
   "metadata": {},
   "source": [
    "## Dictionaries: key value store\n",
    "\n",
    "Another important python data structure is a key value store. What if we want to look up one thing by another. For example number of legs on an animal:"
   ]
  },
  {
   "cell_type": "code",
   "execution_count": 82,
   "metadata": {},
   "outputs": [
    {
     "name": "stdout",
     "output_type": "stream",
     "text": [
      "cat 4\n",
      "fish 0\n"
     ]
    }
   ],
   "source": [
    "number_of_legs = {\"cat\":4, \"person\":2, \"spider\":8, \"fish\":0}\n",
    "print(\"cat\", number_of_legs[\"cat\"])\n",
    "print(\"fish\", number_of_legs[\"fish\"])"
   ]
  },
  {
   "cell_type": "code",
   "execution_count": 83,
   "metadata": {},
   "outputs": [
    {
     "name": "stdout",
     "output_type": "stream",
     "text": [
      "289 17\n"
     ]
    }
   ],
   "source": [
    "#another construction\n",
    "odd_roots = dict(zip(squares_of_odds3,odd_nums))\n",
    "print(289, odd_roots[289])"
   ]
  },
  {
   "cell_type": "code",
   "execution_count": 84,
   "metadata": {},
   "outputs": [
    {
     "ename": "KeyError",
     "evalue": "288",
     "output_type": "error",
     "traceback": [
      "\u001b[0;31m---------------------------------------------------------------------------\u001b[0m",
      "\u001b[0;31mKeyError\u001b[0m                                  Traceback (most recent call last)",
      "\u001b[0;32m<ipython-input-84-2298cbe2636a>\u001b[0m in \u001b[0;36m<module>\u001b[0;34m\u001b[0m\n\u001b[0;32m----> 1\u001b[0;31m \u001b[0mprint\u001b[0m\u001b[0;34m(\u001b[0m\u001b[0;36m288\u001b[0m\u001b[0;34m,\u001b[0m \u001b[0modd_roots\u001b[0m\u001b[0;34m[\u001b[0m\u001b[0;36m288\u001b[0m\u001b[0;34m]\u001b[0m\u001b[0;34m)\u001b[0m\u001b[0;34m\u001b[0m\u001b[0m\n\u001b[0m",
      "\u001b[0;31mKeyError\u001b[0m: 288"
     ]
    }
   ],
   "source": [
    "print(288, odd_roots[288])"
   ]
  },
  {
   "cell_type": "markdown",
   "metadata": {},
   "source": [
    "## Cutting apart Shakespeare and Putting Back together\n",
    "\n",
    "https://www.gutenberg.org/cache/epub/1041/pg1041.txt"
   ]
  },
  {
   "cell_type": "code",
   "execution_count": 85,
   "metadata": {},
   "outputs": [],
   "source": [
    "a_sonnet = \"\"\"\n",
    "From fairest creatures we desire increase,\n",
    "  That thereby beauty's rose might never die,\n",
    "  But as the riper should by time decease,\n",
    "  His tender heir might bear his memory:\n",
    "  But thou, contracted to thine own bright eyes,\n",
    "  Feed'st thy light's flame with self-substantial fuel,\n",
    "  Making a famine where abundance lies,\n",
    "  Thy self thy foe, to thy sweet self too cruel:\n",
    "  Thou that art now the world's fresh ornament,\n",
    "  And only herald to the gaudy spring,\n",
    "  Within thine own bud buriest thy content,\n",
    "  And tender churl mak'st waste in niggarding:\n",
    "    Pity the world, or else this glutton be,\n",
    "    To eat the world's due, by the grave and thee.\n",
    "\"\"\""
   ]
  },
  {
   "cell_type": "code",
   "execution_count": 86,
   "metadata": {},
   "outputs": [
    {
     "name": "stdout",
     "output_type": "stream",
     "text": [
      "['', 'From fairest creatures we desire increase,', \"  That thereby beauty's rose might never die,\", '  But as the riper should by time decease,', '  His tender heir might bear his memory:', '  But thou, contracted to thine own bright eyes,', \"  Feed'st thy light's flame with self-substantial fuel,\", '  Making a famine where abundance lies,', '  Thy self thy foe, to thy sweet self too cruel:', \"  Thou that art now the world's fresh ornament,\", '  And only herald to the gaudy spring,', '  Within thine own bud buriest thy content,', \"  And tender churl mak'st waste in niggarding:\", '    Pity the world, or else this glutton be,', \"    To eat the world's due, by the grave and thee.\", '']\n"
     ]
    }
   ],
   "source": [
    "print(a_sonnet.split('\\n'))"
   ]
  },
  {
   "cell_type": "code",
   "execution_count": 87,
   "metadata": {},
   "outputs": [
    {
     "name": "stdout",
     "output_type": "stream",
     "text": [
      "['From fairest creatures we desire increase,', \"  That thereby beauty's rose might never die,\", '  But as the riper should by time decease,', '  His tender heir might bear his memory:', '  But thou, contracted to thine own bright eyes,', \"  Feed'st thy light's flame with self-substantial fuel,\", '  Making a famine where abundance lies,', '  Thy self thy foe, to thy sweet self too cruel:', \"  Thou that art now the world's fresh ornament,\", '  And only herald to the gaudy spring,', '  Within thine own bud buriest thy content,', \"  And tender churl mak'st waste in niggarding:\", '    Pity the world, or else this glutton be,', \"    To eat the world's due, by the grave and thee.\"]\n"
     ]
    }
   ],
   "source": [
    "print([line for line in a_sonnet.split('\\n') if line])"
   ]
  },
  {
   "cell_type": "code",
   "execution_count": 88,
   "metadata": {},
   "outputs": [
    {
     "name": "stdout",
     "output_type": "stream",
     "text": [
      "['From fairest creatures we desire increase,', \"That thereby beauty's rose might never die,\", 'But as the riper should by time decease,', 'His tender heir might bear his memory:', 'But thou, contracted to thine own bright eyes,', \"Feed'st thy light's flame with self-substantial fuel,\", 'Making a famine where abundance lies,', 'Thy self thy foe, to thy sweet self too cruel:', \"Thou that art now the world's fresh ornament,\", 'And only herald to the gaudy spring,', 'Within thine own bud buriest thy content,', \"And tender churl mak'st waste in niggarding:\", 'Pity the world, or else this glutton be,', \"To eat the world's due, by the grave and thee.\"]\n"
     ]
    }
   ],
   "source": [
    "print([line.strip() for line in a_sonnet.split('\\n') if line])"
   ]
  },
  {
   "cell_type": "code",
   "execution_count": 89,
   "metadata": {},
   "outputs": [
    {
     "name": "stdout",
     "output_type": "stream",
     "text": [
      "6 :  From fairest creatures we desire increase,\n",
      "9 :    That thereby beauty's rose might never die,\n",
      "10 :    But as the riper should by time decease,\n",
      "9 :    His tender heir might bear his memory:\n",
      "10 :    But thou, contracted to thine own bright eyes,\n",
      "9 :    Feed'st thy light's flame with self-substantial fuel,\n",
      "8 :    Making a famine where abundance lies,\n",
      "12 :    Thy self thy foe, to thy sweet self too cruel:\n",
      "10 :    Thou that art now the world's fresh ornament,\n",
      "9 :    And only herald to the gaudy spring,\n",
      "9 :    Within thine own bud buriest thy content,\n",
      "9 :    And tender churl mak'st waste in niggarding:\n",
      "12 :      Pity the world, or else this glutton be,\n",
      "14 :      To eat the world's due, by the grave and thee.\n"
     ]
    }
   ],
   "source": [
    "for line in [line for line in a_sonnet.split('\\n') if line]:\n",
    "    num_words = len(line.split(' '))\n",
    "    print(num_words,\": \", line)"
   ]
  },
  {
   "cell_type": "code",
   "execution_count": 90,
   "metadata": {},
   "outputs": [
    {
     "name": "stdout",
     "output_type": "stream",
     "text": [
      "[(0, 'From fairest creatures we desire increase,'), (1, \"  That thereby beauty's rose might never die,\"), (2, '  But as the riper should by time decease,'), (3, '  His tender heir might bear his memory:'), (4, '  But thou, contracted to thine own bright eyes,'), (5, \"  Feed'st thy light's flame with self-substantial fuel,\"), (6, '  Making a famine where abundance lies,'), (7, '  Thy self thy foe, to thy sweet self too cruel:'), (8, \"  Thou that art now the world's fresh ornament,\"), (9, '  And only herald to the gaudy spring,'), (10, '  Within thine own bud buriest thy content,'), (11, \"  And tender churl mak'st waste in niggarding:\"), (12, '    Pity the world, or else this glutton be,'), (13, \"    To eat the world's due, by the grave and thee.\")]\n"
     ]
    }
   ],
   "source": [
    "print(list(enumerate([line for line in a_sonnet.split('\\n') if line])))"
   ]
  }
 ],
 "metadata": {
  "hide_input": false,
  "kernelspec": {
   "display_name": "Python 3",
   "language": "python",
   "name": "python3"
  },
  "language_info": {
   "codemirror_mode": {
    "name": "ipython",
    "version": 3
   },
   "file_extension": ".py",
   "mimetype": "text/x-python",
   "name": "python",
   "nbconvert_exporter": "python",
   "pygments_lexer": "ipython3",
   "version": "3.6.6"
  },
  "toc": {
   "base_numbering": 1,
   "nav_menu": {},
   "number_sections": false,
   "sideBar": false,
   "skip_h1_title": false,
   "title_cell": "Table of Contents",
   "title_sidebar": "Contents",
   "toc_cell": false,
   "toc_position": {},
   "toc_section_display": false,
   "toc_window_display": false
  }
 },
 "nbformat": 4,
 "nbformat_minor": 2
}
